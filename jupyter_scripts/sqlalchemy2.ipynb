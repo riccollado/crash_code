{
 "cells": [
  {
   "cell_type": "code",
   "execution_count": null,
   "metadata": {},
   "outputs": [],
   "source": [
    "import os\n",
    "\n",
    "from sqlalchemy import create_engine, ForeignKey\n",
    "from sqlalchemy import Column, Sequence\n",
    "from sqlalchemy.ext.declarative import declarative_base  \n",
    "from sqlalchemy.orm import sessionmaker, relationship\n",
    "from sqlalchemy.engine.url import URL\n",
    "\n",
    "from sqlalchemy.dialects.postgresql import \\\n",
    "    ARRAY, BIGINT, BIT, BOOLEAN, BYTEA, CHAR, CIDR, DATE, \\\n",
    "    DOUBLE_PRECISION, ENUM, FLOAT, HSTORE, INET, INTEGER, \\\n",
    "    INTERVAL, JSON, JSONB, MACADDR, MONEY, NUMERIC, OID, REAL, SMALLINT, TEXT, \\\n",
    "    TIME, TIMESTAMP, UUID, VARCHAR, INT4RANGE, INT8RANGE, NUMRANGE, \\\n",
    "    DATERANGE, TSRANGE, TSTZRANGE, TSVECTOR\n",
    "\n",
    "#Database connection from envirionment variables\n",
    "connect_url = URL('postgres',\n",
    "                  host=os.environ['crash_db_host'],\n",
    "                  port=os.environ['crash_db_port'],\n",
    "                  username=os.environ['crash_db_user'],\n",
    "                  password=os.environ['crash_db_password'],\n",
    "                  database=os.environ['crash_db'])\n",
    "\n",
    "db = create_engine(connect_url)  \n",
    "base = declarative_base()"
   ]
  },
  {
   "cell_type": "code",
   "execution_count": null,
   "metadata": {},
   "outputs": [],
   "source": [
    "# Classs to manage meta experiments\n",
    "class Meta(base):  \n",
    "    __tablename__ = 'crash_meta'\n",
    "    id = Column(BIGINT, Sequence('crash_meta_id_seq'), primary_key=True)\n",
    "    experiments = Column(ARRAY(BIGINT), nullable=False)"
   ]
  },
  {
   "cell_type": "code",
   "execution_count": null,
   "metadata": {},
   "outputs": [],
   "source": [
    "# Class to manage single experiment data\n",
    "class Experiment(base):\n",
    "    __tablename__ = 'crash_experiment'\n",
    "    \n",
    "    iterations = relationship(\"Iteration\")\n",
    "    results = relationship(\"Output\")\n",
    "    id = Column(BIGINT, Sequence('crash_experiment_id_seq'), primary_key=True)\n",
    "    \n",
    "    network = Column(JSONB, nullable=False)    \n",
    "    no_of_edges = Column(INTEGER)\n",
    "    no_of_nodes = Column(INTEGER)\n",
    "    \n",
    "    most_likely = Column(ARRAY(DOUBLE_PRECISION), nullable=False)\n",
    "    optimistic = Column(ARRAY(DOUBLE_PRECISION), nullable=False)\n",
    "    pessimistic = Column(ARRAY(DOUBLE_PRECISION), nullable=False)\n",
    "    cov_mat = Column(ARRAY(DOUBLE_PRECISION), nullable=False)\n",
    "    \n",
    "    crash_cost = Column(ARRAY(DOUBLE_PRECISION), nullable=False)\n",
    "    crash_time = Column(ARRAY(DOUBLE_PRECISION), nullable=False)\n",
    "    \n",
    "    penalty_b1 = Column(DOUBLE_PRECISION, nullable=False)\n",
    "    penalty_m = Column(DOUBLE_PRECISION, nullable=False)\n",
    "    penalty_steps = Column(INTEGER, nullable=False)\n",
    "    t_final = Column(DOUBLE_PRECISION, nullable=False)\n",
    "    t_init = Column(DOUBLE_PRECISION, nullable=False)\n",
    "    penalty_type = Column(TEXT, nullable=False)\n",
    "    \n",
    "    kg_l = Column(DOUBLE_PRECISION)\n",
    "    kg_sigma = Column(DOUBLE_PRECISION)\n",
    "    kg_lambda = Column(JSONB)\n",
    "    kg_mu = Column(JSONB)\n",
    "    \n",
    "    bootstrap = Column(BOOLEAN, nullable=False)\n",
    "    confidence = Column(DOUBLE_PRECISION)\n",
    "    resamples = Column(INTEGER)\n",
    "    \n",
    "    pareto_beta = Column(DOUBLE_PRECISION)\n",
    "    \n",
    "    scenarios_per_estimation = Column(INTEGER, nullable=False)\n",
    "    total_scenarios = Column(INTEGER, nullable=False)\n",
    "    method_type = Column(TEXT, nullable=False)\n",
    "    \n",
    "    seed = Column(INTEGER)\n",
    "    seed_np = Column(INTEGER)\n",
    "    \n",
    "    network_figure = Column(BYTEA)\n",
    "    network_pos = Column(JSONB)\n",
    "    "
   ]
  },
  {
   "cell_type": "code",
   "execution_count": null,
   "metadata": {},
   "outputs": [],
   "source": [
    "# Class to manage iteration data\n",
    "class Iteration(base):\n",
    "    __tablename__ = 'crash_iteration'\n",
    "    \n",
    "    id = Column(BIGINT, Sequence('crash_iteration_id_seq'), primary_key=True)\n",
    "    exp_id = Column(BIGINT, ForeignKey('crash_experiment.id'), nullable=False)\n",
    "    \n",
    "    cov = Column(JSONB)\n",
    "    kg_mu = Column(ARRAY(DOUBLE_PRECISION))\n",
    "    kg_lambda = Column(ARRAY(DOUBLE_PRECISION))\n",
    "    constr_tree = Column(JSONB)\n",
    "    kg_e_tree = Column(ARRAY(DOUBLE_PRECISION))\n",
    "    e_tree = Column(ARRAY(DOUBLE_PRECISION))\n",
    "    std_tree = Column(ARRAY(DOUBLE_PRECISION))\n",
    "    recordset_tree = Column(ARRAY(BOOLEAN))\n",
    "    singleton_tree = Column(ARRAY(BOOLEAN)) "
   ]
  },
  {
   "cell_type": "code",
   "execution_count": null,
   "metadata": {},
   "outputs": [],
   "source": [
    "# Class to manage output data\n",
    "class Output(base):\n",
    "    __tablename__ = 'crash_output'\n",
    "    \n",
    "    id = Column(BIGINT, Sequence('crash_output_id_seq'), primary_key=True)\n",
    "    exp_id = Column(BIGINT, ForeignKey('crash_experiment.id'), nullable=False)\n",
    "    "
   ]
  },
  {
   "cell_type": "code",
   "execution_count": null,
   "metadata": {},
   "outputs": [],
   "source": [
    "# Create session    \n",
    "Session = sessionmaker(db)  \n",
    "session = Session()\n",
    "\n",
    "# Create \n",
    "base.metadata.create_all(db)"
   ]
  },
  {
   "cell_type": "code",
   "execution_count": null,
   "metadata": {},
   "outputs": [],
   "source": []
  },
  {
   "cell_type": "code",
   "execution_count": null,
   "metadata": {},
   "outputs": [],
   "source": [
    "# Insert an experiment\n",
    "import json\n",
    "\n",
    "experiment = Experiment(network=json.dumps({'a':1, 'b':2}), no_of_edges=2, no_of_nodes=19)\n",
    "\n",
    "session.add(experiment)  \n",
    "session.commit()"
   ]
  },
  {
   "cell_type": "code",
   "execution_count": null,
   "metadata": {},
   "outputs": [],
   "source": [
    "# Insert an iteration\n",
    "import json\n",
    "\n",
    "iteration = Iteration(exp_id=experiment.id,\n",
    "                      cov = json.dumps({'a':1, 'b':2}),\n",
    "                      kg_mu = [1.2, 3.4],\n",
    "                      kg_lambda = [2.4,62.0],\n",
    "                      constr_tree = json.dumps({'a':1, 'd':2}),\n",
    "                      kg_e_tree = [2.4,62.0],\n",
    "                      e_tree = [2.4,62.0],\n",
    "                      std_tree = [2.4,62.0],\n",
    "                      recordset_tree = [True,False],\n",
    "                      singleton_tree = [True])\n",
    "\n",
    "session.add(iteration)  \n",
    "session.commit()"
   ]
  },
  {
   "cell_type": "code",
   "execution_count": 3,
   "metadata": {},
   "outputs": [
    {
     "data": {
      "text/plain": [
       "'[{\"a\": 1, \"b\": 2}]'"
      ]
     },
     "execution_count": 3,
     "metadata": {},
     "output_type": "execute_result"
    }
   ],
   "source": [
    "import json\n",
    "json.dumps([{'a':1, 'b':2}])"
   ]
  },
  {
   "cell_type": "code",
   "execution_count": null,
   "metadata": {},
   "outputs": [],
   "source": []
  },
  {
   "cell_type": "code",
   "execution_count": null,
   "metadata": {},
   "outputs": [],
   "source": [
    "# Insert \n",
    "experiment_run = Meta(experiments=[12,1223,61252,123])\n",
    "session.add(experiment_run)  \n",
    "session.commit()\n",
    "\n",
    "\n",
    "# Get returned primay key value of just inserted row\n",
    "print(experiment_run.id)\n",
    "\n",
    "\n",
    "# Read\n",
    "# I need to figure out the querries later!\n",
    "runs = session.query(Meta)  \n",
    "for run in runs:  \n",
    "    print(run.experiments)"
   ]
  },
  {
   "cell_type": "code",
   "execution_count": null,
   "metadata": {
    "scrolled": false
   },
   "outputs": [],
   "source": [
    "# Close session\n",
    "session.close()"
   ]
  },
  {
   "cell_type": "code",
   "execution_count": null,
   "metadata": {},
   "outputs": [],
   "source": []
  }
 ],
 "metadata": {
  "kernelspec": {
   "display_name": "6. Python 3.6: Insight Project",
   "language": "python",
   "name": "insight-prj"
  },
  "language_info": {
   "codemirror_mode": {
    "name": "ipython",
    "version": 3
   },
   "file_extension": ".py",
   "mimetype": "text/x-python",
   "name": "python",
   "nbconvert_exporter": "python",
   "pygments_lexer": "ipython3",
   "version": "3.6.10"
  }
 },
 "nbformat": 4,
 "nbformat_minor": 4
}
